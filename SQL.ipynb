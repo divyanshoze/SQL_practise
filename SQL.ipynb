{
 "cells": [
  {
   "cell_type": "code",
   "execution_count": 10,
   "id": "f90c5c46-2d3e-481c-b986-3d13fc079dab",
   "metadata": {
    "scrolled": true
   },
   "outputs": [
    {
     "name": "stdout",
     "output_type": "stream",
     "text": [
      "Collecting ipython-sql\n",
      "  Downloading ipython_sql-0.5.0-py3-none-any.whl.metadata (17 kB)\n",
      "Collecting prettytable (from ipython-sql)\n",
      "  Downloading prettytable-3.10.0-py3-none-any.whl.metadata (30 kB)\n",
      "Requirement already satisfied: ipython in c:\\users\\divyansh\\anaconda3\\lib\\site-packages (from ipython-sql) (8.20.0)\n",
      "Requirement already satisfied: sqlalchemy>=2.0 in c:\\users\\divyansh\\anaconda3\\lib\\site-packages (from ipython-sql) (2.0.25)\n",
      "Collecting sqlparse (from ipython-sql)\n",
      "  Downloading sqlparse-0.5.0-py3-none-any.whl.metadata (3.9 kB)\n",
      "Requirement already satisfied: six in c:\\users\\divyansh\\anaconda3\\lib\\site-packages (from ipython-sql) (1.16.0)\n",
      "Requirement already satisfied: ipython-genutils in c:\\users\\divyansh\\anaconda3\\lib\\site-packages (from ipython-sql) (0.2.0)\n",
      "Collecting typing-extensions>=4.6.0 (from sqlalchemy>=2.0->ipython-sql)\n",
      "  Downloading typing_extensions-4.12.2-py3-none-any.whl.metadata (3.0 kB)\n",
      "Requirement already satisfied: greenlet!=0.4.17 in c:\\users\\divyansh\\anaconda3\\lib\\site-packages (from sqlalchemy>=2.0->ipython-sql) (3.0.1)\n",
      "Requirement already satisfied: decorator in c:\\users\\divyansh\\anaconda3\\lib\\site-packages (from ipython->ipython-sql) (5.1.1)\n",
      "Requirement already satisfied: jedi>=0.16 in c:\\users\\divyansh\\anaconda3\\lib\\site-packages (from ipython->ipython-sql) (0.18.1)\n",
      "Requirement already satisfied: matplotlib-inline in c:\\users\\divyansh\\anaconda3\\lib\\site-packages (from ipython->ipython-sql) (0.1.6)\n",
      "Requirement already satisfied: prompt-toolkit<3.1.0,>=3.0.41 in c:\\users\\divyansh\\anaconda3\\lib\\site-packages (from ipython->ipython-sql) (3.0.43)\n",
      "Requirement already satisfied: pygments>=2.4.0 in c:\\users\\divyansh\\anaconda3\\lib\\site-packages (from ipython->ipython-sql) (2.15.1)\n",
      "Requirement already satisfied: stack-data in c:\\users\\divyansh\\anaconda3\\lib\\site-packages (from ipython->ipython-sql) (0.2.0)\n",
      "Requirement already satisfied: traitlets>=5 in c:\\users\\divyansh\\anaconda3\\lib\\site-packages (from ipython->ipython-sql) (5.7.1)\n",
      "Requirement already satisfied: colorama in c:\\users\\divyansh\\anaconda3\\lib\\site-packages (from ipython->ipython-sql) (0.4.6)\n",
      "Requirement already satisfied: wcwidth in c:\\users\\divyansh\\anaconda3\\lib\\site-packages (from prettytable->ipython-sql) (0.2.5)\n",
      "Requirement already satisfied: parso<0.9.0,>=0.8.0 in c:\\users\\divyansh\\anaconda3\\lib\\site-packages (from jedi>=0.16->ipython->ipython-sql) (0.8.3)\n",
      "Requirement already satisfied: executing in c:\\users\\divyansh\\anaconda3\\lib\\site-packages (from stack-data->ipython->ipython-sql) (0.8.3)\n",
      "Requirement already satisfied: asttokens in c:\\users\\divyansh\\anaconda3\\lib\\site-packages (from stack-data->ipython->ipython-sql) (2.0.5)\n",
      "Requirement already satisfied: pure-eval in c:\\users\\divyansh\\anaconda3\\lib\\site-packages (from stack-data->ipython->ipython-sql) (0.2.2)\n",
      "Downloading ipython_sql-0.5.0-py3-none-any.whl (20 kB)\n",
      "Downloading prettytable-3.10.0-py3-none-any.whl (28 kB)\n",
      "Downloading sqlparse-0.5.0-py3-none-any.whl (43 kB)\n",
      "   ---------------------------------------- 0.0/44.0 kB ? eta -:--:--\n",
      "   ---------------------------------------- 44.0/44.0 kB ? eta 0:00:00\n",
      "Downloading typing_extensions-4.12.2-py3-none-any.whl (37 kB)\n",
      "Installing collected packages: typing-extensions, sqlparse, prettytable, ipython-sql\n",
      "  Attempting uninstall: typing-extensions\n",
      "    Found existing installation: typing_extensions 4.5.0\n",
      "    Uninstalling typing_extensions-4.5.0:\n",
      "      Successfully uninstalled typing_extensions-4.5.0\n",
      "Successfully installed ipython-sql-0.5.0 prettytable-3.10.0 sqlparse-0.5.0 typing-extensions-4.12.2\n",
      "Note: you may need to restart the kernel to use updated packages.\n"
     ]
    }
   ],
   "source": [
    "pip install ipython-sql\n"
   ]
  },
  {
   "cell_type": "code",
   "execution_count": 11,
   "id": "21bdbb3f-e0d8-47bd-8af7-cee1e854eebe",
   "metadata": {},
   "outputs": [],
   "source": [
    "%load_ext sql\n"
   ]
  },
  {
   "cell_type": "code",
   "execution_count": 12,
   "id": "206195ef-e8e2-49cc-8aca-4ff7113c2d65",
   "metadata": {},
   "outputs": [],
   "source": [
    "%sql sqlite:///school.db\n"
   ]
  },
  {
   "cell_type": "code",
   "execution_count": 13,
   "id": "a7259175-5a51-44ef-8eba-84fa5d53cecd",
   "metadata": {},
   "outputs": [
    {
     "name": "stdout",
     "output_type": "stream",
     "text": [
      " * sqlite:///school.db\n",
      "Done.\n",
      "Done.\n",
      "Done.\n"
     ]
    },
    {
     "data": {
      "text/plain": [
       "[]"
      ]
     },
     "execution_count": 13,
     "metadata": {},
     "output_type": "execute_result"
    }
   ],
   "source": [
    "%%sql\n",
    "\n",
    "CREATE TABLE IF NOT EXISTS Students (\n",
    "    student_id INTEGER PRIMARY KEY,\n",
    "    first_name TEXT NOT NULL,\n",
    "    last_name TEXT NOT NULL,\n",
    "    birthdate DATE\n",
    ");\n",
    "\n",
    "CREATE TABLE IF NOT EXISTS Courses (\n",
    "    course_id INTEGER PRIMARY KEY,\n",
    "    course_name TEXT NOT NULL,\n",
    "    instructor_name TEXT NOT NULL\n",
    ");\n",
    "\n",
    "CREATE TABLE IF NOT EXISTS Enrollments (\n",
    "    enrollment_id INTEGER PRIMARY KEY,\n",
    "    student_id INTEGER,\n",
    "    course_id INTEGER,\n",
    "    enrollment_date DATE,\n",
    "    FOREIGN KEY (student_id) REFERENCES Students (student_id),\n",
    "    FOREIGN KEY (course_id) REFERENCES Courses (course_id)\n",
    ");\n"
   ]
  },
  {
   "cell_type": "code",
   "execution_count": 14,
   "id": "4090523b-4903-4b6c-b238-cbed1c5bce08",
   "metadata": {},
   "outputs": [
    {
     "name": "stdout",
     "output_type": "stream",
     "text": [
      " * sqlite:///school.db\n",
      "0 rows affected.\n",
      "0 rows affected.\n",
      "0 rows affected.\n"
     ]
    },
    {
     "data": {
      "text/plain": [
       "[]"
      ]
     },
     "execution_count": 14,
     "metadata": {},
     "output_type": "execute_result"
    }
   ],
   "source": [
    "%%sql\n",
    "\n",
    "INSERT INTO Students (student_id, first_name, last_name, birthdate) VALUES\n",
    "(1, 'John', 'Doe', '2000-01-15'),\n",
    "(2, 'Jane', 'Smith', '1999-05-23'),\n",
    "(3, 'Mike', 'Brown', '2001-07-30')\n",
    "ON CONFLICT(student_id) DO NOTHING;\n",
    "\n",
    "INSERT INTO Courses (course_id, course_name, instructor_name) VALUES\n",
    "(1, 'Mathematics', 'Dr. Alice'),\n",
    "(2, 'Physics', 'Dr. Bob'),\n",
    "(3, 'Chemistry', 'Dr. Carol')\n",
    "ON CONFLICT(course_id) DO NOTHING;\n",
    "\n",
    "INSERT INTO Enrollments (enrollment_id, student_id, course_id, enrollment_date) VALUES\n",
    "(1, 1, 1, '2023-09-01'),\n",
    "(2, 1, 2, '2023-09-01'),\n",
    "(3, 2, 1, '2023-09-02'),\n",
    "(4, 3, 3, '2023-09-03')\n",
    "ON CONFLICT(enrollment_id) DO NOTHING;\n"
   ]
  },
  {
   "cell_type": "code",
   "execution_count": null,
   "id": "322b29cd-e80c-41ca-91e8-c3c9356da4f6",
   "metadata": {},
   "outputs": [],
   "source": [
    "%sql SELECT s.first_name, s.last_name FROM Students s JOIN Enrollments e ON\n",
    "s.student_id = e.student_id JOIN Courses c ON e.course_id = c.course_id WHERE c.course_name = 'Mathematics';\n"
   ]
  },
  {
   "cell_type": "markdown",
   "id": "576efc9f-720c-480d-a9b3-d67afcf54e6a",
   "metadata": {},
   "source": [
    "Get the names of all students enrolled in the Mathematics course:\n",
    "\n",
    "\n",
    "joining three tables"
   ]
  },
  {
   "cell_type": "code",
   "execution_count": 21,
   "id": "0e820b8f-b315-4173-9f6b-01b28758ff90",
   "metadata": {},
   "outputs": [
    {
     "name": "stdout",
     "output_type": "stream",
     "text": [
      " * sqlite:///school.db\n",
      "Done.\n"
     ]
    },
    {
     "data": {
      "text/html": [
       "<table>\n",
       "    <thead>\n",
       "        <tr>\n",
       "            <th>first_name</th>\n",
       "            <th>last_name</th>\n",
       "        </tr>\n",
       "    </thead>\n",
       "    <tbody>\n",
       "        <tr>\n",
       "            <td>John</td>\n",
       "            <td>Doe</td>\n",
       "        </tr>\n",
       "        <tr>\n",
       "            <td>Jane</td>\n",
       "            <td>Smith</td>\n",
       "        </tr>\n",
       "    </tbody>\n",
       "</table>"
      ],
      "text/plain": [
       "[('John', 'Doe'), ('Jane', 'Smith')]"
      ]
     },
     "execution_count": 21,
     "metadata": {},
     "output_type": "execute_result"
    }
   ],
   "source": [
    "%%sql SELECT first_name,last_name from Students s JOIN Enrollments e on s.student_id = e.student_id JOIN Courses c on c.course_id = e.course_id \n",
    "WHERE course_name = 'Mathematics'"
   ]
  },
  {
   "cell_type": "markdown",
   "id": "99bbdcc2-4b10-44e1-a330-2e3cdf53bcc5",
   "metadata": {},
   "source": [
    "Count the number of students enrolled in each course:"
   ]
  },
  {
   "cell_type": "code",
   "execution_count": 29,
   "id": "d08cca0c-f26c-472c-b34b-03bb21fa8c4d",
   "metadata": {},
   "outputs": [
    {
     "name": "stdout",
     "output_type": "stream",
     "text": [
      " * sqlite:///school.db\n",
      "Done.\n"
     ]
    },
    {
     "data": {
      "text/html": [
       "<table>\n",
       "    <thead>\n",
       "        <tr>\n",
       "            <th>course_name</th>\n",
       "            <th>num_students</th>\n",
       "        </tr>\n",
       "    </thead>\n",
       "    <tbody>\n",
       "        <tr>\n",
       "            <td>Chemistry</td>\n",
       "            <td>1</td>\n",
       "        </tr>\n",
       "        <tr>\n",
       "            <td>Physics</td>\n",
       "            <td>1</td>\n",
       "        </tr>\n",
       "        <tr>\n",
       "            <td>Mathematics</td>\n",
       "            <td>2</td>\n",
       "        </tr>\n",
       "    </tbody>\n",
       "</table>"
      ],
      "text/plain": [
       "[('Chemistry', 1), ('Physics', 1), ('Mathematics', 2)]"
      ]
     },
     "execution_count": 29,
     "metadata": {},
     "output_type": "execute_result"
    }
   ],
   "source": [
    "%sql SELECT c.course_name,count(s.student_id) AS 'num_students' from Courses c JOIN Enrollments e on c.course_id=e.course_id JOIN Students s on e.student_id=s.student_id GROUP BY c.course_name order by num_students"
   ]
  },
  {
   "cell_type": "markdown",
   "id": "4d4a7c6b-0632-4c24-9956-ace6e133ce2a",
   "metadata": {},
   "source": [
    "List all students along with their enrolled courses:\n",
    "\n",
    "\n"
   ]
  },
  {
   "cell_type": "code",
   "execution_count": 33,
   "id": "62e9f02e-bb98-4f23-901f-fe9dd70db0d4",
   "metadata": {},
   "outputs": [
    {
     "name": "stdout",
     "output_type": "stream",
     "text": [
      " * sqlite:///school.db\n",
      "Done.\n"
     ]
    },
    {
     "data": {
      "text/html": [
       "<table>\n",
       "    <thead>\n",
       "        <tr>\n",
       "            <th>first_name</th>\n",
       "            <th>last_name</th>\n",
       "            <th>course_name</th>\n",
       "        </tr>\n",
       "    </thead>\n",
       "    <tbody>\n",
       "        <tr>\n",
       "            <td>John</td>\n",
       "            <td>Doe</td>\n",
       "            <td>Mathematics</td>\n",
       "        </tr>\n",
       "        <tr>\n",
       "            <td>John</td>\n",
       "            <td>Doe</td>\n",
       "            <td>Physics</td>\n",
       "        </tr>\n",
       "        <tr>\n",
       "            <td>Jane</td>\n",
       "            <td>Smith</td>\n",
       "            <td>Mathematics</td>\n",
       "        </tr>\n",
       "        <tr>\n",
       "            <td>Mike</td>\n",
       "            <td>Brown</td>\n",
       "            <td>Chemistry</td>\n",
       "        </tr>\n",
       "    </tbody>\n",
       "</table>"
      ],
      "text/plain": [
       "[('John', 'Doe', 'Mathematics'),\n",
       " ('John', 'Doe', 'Physics'),\n",
       " ('Jane', 'Smith', 'Mathematics'),\n",
       " ('Mike', 'Brown', 'Chemistry')]"
      ]
     },
     "execution_count": 33,
     "metadata": {},
     "output_type": "execute_result"
    }
   ],
   "source": [
    "%sql SELECT s.first_name,s.last_name,c.course_name from Courses c JOIN Enrollments e on c.course_id=e.course_id JOIN Students s on e.student_id=s.student_id "
   ]
  },
  {
   "cell_type": "markdown",
   "id": "508426cf-c213-49a3-9d1e-ecdf0ee058dc",
   "metadata": {},
   "source": [
    "List all courses that do not have any students enrolled:\n",
    "\n"
   ]
  },
  {
   "cell_type": "code",
   "execution_count": 34,
   "id": "3783cc1a-c70f-461c-a006-7a63744491e3",
   "metadata": {},
   "outputs": [
    {
     "name": "stdout",
     "output_type": "stream",
     "text": [
      " * sqlite:///school.db\n",
      "Done.\n"
     ]
    },
    {
     "data": {
      "text/html": [
       "<table>\n",
       "    <thead>\n",
       "        <tr>\n",
       "            <th>course_name</th>\n",
       "        </tr>\n",
       "    </thead>\n",
       "    <tbody>\n",
       "    </tbody>\n",
       "</table>"
      ],
      "text/plain": [
       "[]"
      ]
     },
     "execution_count": 34,
     "metadata": {},
     "output_type": "execute_result"
    }
   ],
   "source": [
    "%sql SELECT c.course_name  from Courses c JOIN Enrollments e on c.course_id=e.course_id JOIN Students s on e.student_id=s.student_id where e.enrollment_id = NULL"
   ]
  },
  {
   "cell_type": "markdown",
   "id": "e75ec7ca-e3e0-4868-b344-2d39032e5cb1",
   "metadata": {},
   "source": [
    "Find the instructor who teaches the most courses:\n",
    "\n"
   ]
  },
  {
   "cell_type": "code",
   "execution_count": 42,
   "id": "5f8aac72-1194-4b5f-9341-924d3674a5a8",
   "metadata": {},
   "outputs": [
    {
     "name": "stdout",
     "output_type": "stream",
     "text": [
      " * sqlite:///school.db\n",
      "Done.\n"
     ]
    },
    {
     "data": {
      "text/html": [
       "<table>\n",
       "    <thead>\n",
       "        <tr>\n",
       "            <th>instructor_name</th>\n",
       "        </tr>\n",
       "    </thead>\n",
       "    <tbody>\n",
       "        <tr>\n",
       "            <td>Dr. Alice</td>\n",
       "        </tr>\n",
       "    </tbody>\n",
       "</table>"
      ],
      "text/plain": [
       "[('Dr. Alice',)]"
      ]
     },
     "execution_count": 42,
     "metadata": {},
     "output_type": "execute_result"
    }
   ],
   "source": [
    "%sql SELECT instructor_name from Courses where course_id = (SELECT course_id from enrollments Group by course_id order by count(student_ID) DESC LIMIT 1) "
   ]
  },
  {
   "cell_type": "markdown",
   "id": "c3c49f74-b5bc-484d-b349-554f30b2ab84",
   "metadata": {},
   "source": [
    "List all students who are enrolled in more than one course:\n",
    "\n"
   ]
  },
  {
   "cell_type": "code",
   "execution_count": 49,
   "id": "051f4c05-6ab8-4b74-98e8-95069d0d4ce4",
   "metadata": {},
   "outputs": [
    {
     "name": "stdout",
     "output_type": "stream",
     "text": [
      " * sqlite:///school.db\n",
      "Done.\n"
     ]
    },
    {
     "data": {
      "text/html": [
       "<table>\n",
       "    <thead>\n",
       "        <tr>\n",
       "            <th>first_name</th>\n",
       "            <th>last_name</th>\n",
       "            <th>num_courses</th>\n",
       "        </tr>\n",
       "    </thead>\n",
       "    <tbody>\n",
       "        <tr>\n",
       "            <td>John</td>\n",
       "            <td>Doe</td>\n",
       "            <td>2</td>\n",
       "        </tr>\n",
       "    </tbody>\n",
       "</table>"
      ],
      "text/plain": [
       "[('John', 'Doe', 2)]"
      ]
     },
     "execution_count": 49,
     "metadata": {},
     "output_type": "execute_result"
    }
   ],
   "source": [
    "%sql SELECT s.first_name,s.last_name,COUNT(e.course_id) AS 'num_courses' from Students s JOIN Enrollments e on s.student_id=e.student_id JOIN Courses c on c.course_id=e.course_id GROUP BY s.student_id HAVING num_courses>1;"
   ]
  },
  {
   "cell_type": "markdown",
   "id": "6446d824-52fc-4982-b33c-2d066c384798",
   "metadata": {},
   "source": [
    "Find the students who are not enrolled in any course:"
   ]
  },
  {
   "cell_type": "code",
   "execution_count": 55,
   "id": "3c7207c3-959d-4d41-a86e-905c3b365969",
   "metadata": {},
   "outputs": [
    {
     "name": "stdout",
     "output_type": "stream",
     "text": [
      " * sqlite:///school.db\n",
      "Done.\n"
     ]
    },
    {
     "data": {
      "text/html": [
       "<table>\n",
       "    <thead>\n",
       "        <tr>\n",
       "            <th>first_name</th>\n",
       "            <th>last_name</th>\n",
       "        </tr>\n",
       "    </thead>\n",
       "    <tbody>\n",
       "    </tbody>\n",
       "</table>"
      ],
      "text/plain": [
       "[]"
      ]
     },
     "execution_count": 55,
     "metadata": {},
     "output_type": "execute_result"
    }
   ],
   "source": [
    "%sql SELECT s.first_name,s.last_name from Students s JOIN Enrollments e on s.student_id=e.student_id JOIN Courses c on e.course_id=c.course_id WHERE e.enrollment_id = NULL"
   ]
  },
  {
   "cell_type": "code",
   "execution_count": null,
   "id": "9d1ab48c-3c13-48c8-a65e-193d574ab8e3",
   "metadata": {},
   "outputs": [],
   "source": []
  }
 ],
 "metadata": {
  "kernelspec": {
   "display_name": "Python 3 (ipykernel)",
   "language": "python",
   "name": "python3"
  },
  "language_info": {
   "codemirror_mode": {
    "name": "ipython",
    "version": 3
   },
   "file_extension": ".py",
   "mimetype": "text/x-python",
   "name": "python",
   "nbconvert_exporter": "python",
   "pygments_lexer": "ipython3",
   "version": "3.11.7"
  }
 },
 "nbformat": 4,
 "nbformat_minor": 5
}
